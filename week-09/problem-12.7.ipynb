{
 "cells": [
  {
   "cell_type": "markdown",
   "id": "014e2bd5",
   "metadata": {},
   "source": [
    "# 12.7 TOGGLE STREAMLINES\n",
    "\n",
    "Use this notebook to store your work for this problem."
   ]
  },
  {
   "cell_type": "markdown",
   "id": "5610b9f6",
   "metadata": {},
   "source": [
    "## (a) Nondimensionalize Equation 12.16"
   ]
  },
  {
   "cell_type": "markdown",
   "id": "eb60ebad",
   "metadata": {},
   "source": [
    "***Replace with your work.***"
   ]
  },
  {
   "cell_type": "markdown",
   "id": "377db16d",
   "metadata": {},
   "source": [
    "## (b)  Plot streamlines\n",
    "\n",
    "You should choose at least 4 pairs of initial concentrations $[\\bar{c}_1(0), \\bar{c}_2(0)]$ to illustrate what happens in all 4 quadrants of your phase portrait."
   ]
  },
  {
   "cell_type": "code",
   "execution_count": 1,
   "id": "9f51aa34",
   "metadata": {},
   "outputs": [],
   "source": [
    "# Garrett Allen\n",
    "import numpy as np\n",
    "import matplotlib.pyplot as plt\n",
    "import scipy.special as ss\n",
    "from scipy.special import binom\n",
    "from numpy import random\n",
    "from scipy.stats import norm\n",
    "import math\n",
    "from scipy.stats import stats\n",
    "from scipy.special import beta\n",
    "from scipy.signal import convolve\n",
    "from mpl_toolkits import mplot3d\n",
    "from numpy.random import default_rng\n",
    "rand = default_rng().random\n",
    "from scipy.integrate import odeint"
   ]
  },
  {
   "cell_type": "code",
   "execution_count": null,
   "id": "ae7db770",
   "metadata": {},
   "outputs": [],
   "source": [
    "\n",
    "\n"
   ]
  },
  {
   "cell_type": "markdown",
   "id": "95c7c3aa",
   "metadata": {},
   "source": [
    "***Replace with your comments.***"
   ]
  },
  {
   "cell_type": "code",
   "execution_count": null,
   "id": "dfb4937a",
   "metadata": {},
   "outputs": [],
   "source": []
  }
 ],
 "metadata": {
  "kernelspec": {
   "display_name": "Python 3 (ipykernel)",
   "language": "python",
   "name": "python3"
  },
  "language_info": {
   "codemirror_mode": {
    "name": "ipython",
    "version": 3
   },
   "file_extension": ".py",
   "mimetype": "text/x-python",
   "name": "python",
   "nbconvert_exporter": "python",
   "pygments_lexer": "ipython3",
   "version": "3.9.7"
  }
 },
 "nbformat": 4,
 "nbformat_minor": 5
}
