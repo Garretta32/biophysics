{
 "cells": [
  {
   "cell_type": "markdown",
   "id": "b7cf91a4",
   "metadata": {},
   "source": [
    "# Computer Lab 1\n",
    "\n",
    "Work through the first half of \"First Computer Lab\" (Section 5.1) in _A Student's Guide to Python._  This exercise ties together everything we did in Week 1.\n",
    "\n",
    "You can use this notebook to store your code, plots, and notes, or you can write a ___script___ (see Section 3.3) that will carry out the analysis and produce the plots, and simply write your comments in this notebook.  If you write a script, it should save your plot with the data and your best fit to a PDF in this folder when it runs."
   ]
  },
  {
   "cell_type": "code",
   "execution_count": 25,
   "id": "ab2c4a08",
   "metadata": {},
   "outputs": [],
   "source": [
    "# Garrett Allen\n",
    "import numpy as np\n",
    "import matplotlib.pyplot as plt"
   ]
  },
  {
   "cell_type": "code",
   "execution_count": 35,
   "id": "2a413b82",
   "metadata": {},
   "outputs": [
    {
     "data": {
      "text/plain": [
       "array([0. , 0.1, 0.2, 0.3, 0.4, 0.5, 0.6, 0.7, 0.8, 0.9, 1. ])"
      ]
     },
     "execution_count": 35,
     "metadata": {},
     "output_type": "execute_result"
    }
   ],
   "source": [
    "time = np.linspace(0,1,11)\n",
    "time"
   ]
  },
  {
   "cell_type": "code",
   "execution_count": 39,
   "id": "06f590ac",
   "metadata": {},
   "outputs": [],
   "source": [
    "alpha = 10\n",
    "beta = 5\n",
    "A = 100\n",
    "B = 0"
   ]
  },
  {
   "cell_type": "code",
   "execution_count": 40,
   "id": "461519af",
   "metadata": {},
   "outputs": [
    {
     "data": {
      "text/plain": [
       "array([1.00000000e+02, 3.67879441e+01, 1.35335283e+01, 4.97870684e+00,\n",
       "       1.83156389e+00, 6.73794700e-01, 2.47875218e-01, 9.11881966e-02,\n",
       "       3.35462628e-02, 1.23409804e-02, 4.53999298e-03])"
      ]
     },
     "execution_count": 40,
     "metadata": {},
     "output_type": "execute_result"
    }
   ],
   "source": [
    "V_t = A*np.exp(-alpha*time)+B*np.exp(-beta*time)\n",
    "V_t"
   ]
  },
  {
   "cell_type": "code",
   "execution_count": 43,
   "id": "1d5eac98",
   "metadata": {},
   "outputs": [
    {
     "data": {
      "text/plain": [
       "[<matplotlib.lines.Line2D at 0x1dd065ae4c0>]"
      ]
     },
     "execution_count": 43,
     "metadata": {},
     "output_type": "execute_result"
    },
    {
     "data": {
      "image/png": "[encoded data removed]",
      "text/plain": [
       "<Figure size 432x288 with 1 Axes>"
      ]
     },
     "metadata": {
      "needs_background": "light"
     },
     "output_type": "display_data"
    }
   ],
   "source": [
    "plt.plot(time,V_t,'r.')"
   ]
  },
  {
   "cell_type": "code",
   "execution_count": null,
   "id": "75e02a52",
   "metadata": {},
   "outputs": [],
   "source": []
  }
 ],
 "metadata": {
  "kernelspec": {
   "display_name": "Python 3 (ipykernel)",
   "language": "python",
   "name": "python3"
  },
  "language_info": {
   "codemirror_mode": {
    "name": "ipython",
    "version": 3
   },
   "file_extension": ".py",
   "mimetype": "text/x-python",
   "name": "python",
   "nbconvert_exporter": "python",
   "pygments_lexer": "ipython3",
   "version": "3.9.7"
  }
 },
 "nbformat": 4,
 "nbformat_minor": 5
}
