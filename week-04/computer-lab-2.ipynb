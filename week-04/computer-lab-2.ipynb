{
 "cells": [
  {
   "cell_type": "markdown",
   "id": "b7cf91a4",
   "metadata": {},
   "source": [
    "# Computer Lab 2\n",
    "\n",
    "Work through the \"Second Computer Lab\" (Chapter 7) in _A Student's Guide to Python._  This exercise illustrates how to carry out \"numerical experiments\" to explore theoretical models.\n",
    "\n",
    "You can use this notebook to store your code, plots, and notes, or you can write a ___script___ (see Section 3.3) that will carry out the analysis and produce the plots, and simply write your comments and observations in this notebook.  If you write a script, it should save your plot with the data and your best fit to a PDF, JPG, or PNG in this folder when it runs."
   ]
  },
  {
   "cell_type": "code",
   "execution_count": 1,
   "id": "596d9a7b",
   "metadata": {},
   "outputs": [],
   "source": [
    "# Garrett Allen\n",
    "import numpy as np\n",
    "import matplotlib.pyplot as plt\n",
    "import scipy.special as ss\n",
    "from scipy.special import binom\n",
    "from numpy import random"
   ]
  },
  {
   "cell_type": "code",
   "execution_count": 2,
   "id": "0c88d95f",
   "metadata": {},
   "outputs": [],
   "source": [
    "num_steps = 10\n"
   ]
  },
  {
   "cell_type": "code",
   "execution_count": 3,
   "id": "e87ed929",
   "metadata": {},
   "outputs": [
    {
     "name": "stdout",
     "output_type": "stream",
     "text": [
      "127 -232\n"
     ]
    }
   ],
   "source": [
    "x = random.randint(-100,100, size=(num_steps))\n",
    "y = random.randint(-100,100, size=(num_steps))\n",
    "\n",
    "locationx = sum(x)\n",
    "locationy = sum(y)\n",
    "print(locationx,locationy)"
   ]
  },
  {
   "cell_type": "code",
   "execution_count": 4,
   "id": "9e21363f",
   "metadata": {},
   "outputs": [
    {
     "data": {
      "text/plain": [
       "(-1000.0, 1000.0)"
      ]
     },
     "execution_count": 4,
     "metadata": {},
     "output_type": "execute_result"
    },
    {
     "data": {
      "image/png": "[encoded data removed]",
      "text/plain": [
       "<Figure size 432x288 with 1 Axes>"
      ]
     },
     "metadata": {
      "needs_background": "light"
     },
     "output_type": "display_data"
    }
   ],
   "source": [
    "plt.plot(locationx,locationy, 'ro')\n",
    "\n",
    "plt.xlabel(\"X\")\n",
    "plt.ylabel(\"Y\")\n",
    "plt.title(\"End Location\")\n",
    "plt.xlim(-1000,1000)\n",
    "plt.ylim(-1000,1000)"
   ]
  },
  {
   "cell_type": "code",
   "execution_count": 5,
   "id": "a72e0cd8",
   "metadata": {},
   "outputs": [
    {
     "name": "stdout",
     "output_type": "stream",
     "text": [
      "[   0   81  -83  168 -329  188   89  -74  121  -65]\n",
      "[   0   32 -346  161  206  -61   77  223   31  -67]\n"
     ]
    }
   ],
   "source": [
    "xx = np.array([0])\n",
    "yy = np.array([0])\n",
    "for i in range(9):\n",
    "    xi = random.randint(-100,100, size=(num_steps))\n",
    "    yi = random.randint(-100,100, size=(num_steps))\n",
    "\n",
    "    locationx = sum(xi)\n",
    "    locationy = sum(yi)\n",
    "    \n",
    "    xx = np.append(xx,[locationx])\n",
    "    yy = np.append(yy,[locationy])\n",
    "\n",
    "print(xx)\n",
    "print(yy)"
   ]
  },
  {
   "cell_type": "code",
   "execution_count": 6,
   "id": "8f9a888f",
   "metadata": {},
   "outputs": [
    {
     "data": {
      "text/plain": [
       "(-1000.0, 1000.0)"
      ]
     },
     "execution_count": 6,
     "metadata": {},
     "output_type": "execute_result"
    },
    {
     "data": {
      "image/png": "[encoded data removed]",
      "text/plain": [
       "<Figure size 432x288 with 1 Axes>"
      ]
     },
     "metadata": {
      "needs_background": "light"
     },
     "output_type": "display_data"
    }
   ],
   "source": [
    "plt.plot(xx,yy, 'ro')\n",
    "\n",
    "plt.xlabel(\"X\")\n",
    "plt.ylabel(\"Y\")\n",
    "plt.title(\"End Location\")\n",
    "plt.xlim(-1000,1000)\n",
    "plt.ylim(-1000,1000)"
   ]
  },
  {
   "cell_type": "code",
   "execution_count": null,
   "id": "4d0b1047",
   "metadata": {},
   "outputs": [],
   "source": []
  },
  {
   "cell_type": "code",
   "execution_count": null,
   "id": "da021a9d",
   "metadata": {},
   "outputs": [],
   "source": []
  }
 ],
 "metadata": {
  "kernelspec": {
   "display_name": "Python 3 (ipykernel)",
   "language": "python",
   "name": "python3"
  },
  "language_info": {
   "codemirror_mode": {
    "name": "ipython",
    "version": 3
   },
   "file_extension": ".py",
   "mimetype": "text/x-python",
   "name": "python",
   "nbconvert_exporter": "python",
   "pygments_lexer": "ipython3",
   "version": "3.9.7"
  }
 },
 "nbformat": 4,
 "nbformat_minor": 5
}
