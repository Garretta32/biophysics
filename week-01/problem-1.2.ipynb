{
 "cells": [
  {
   "cell_type": "markdown",
   "id": "34756b8b",
   "metadata": {},
   "source": [
    "# Problem 1.2\n",
    "\n",
    "This notebook is to help you get started with problem 1.2."
   ]
  },
  {
   "cell_type": "markdown",
   "id": "34ada4c1",
   "metadata": {},
   "source": [
    "## Setup\n",
    "\n",
    "Something like this should probably be near the top of any Jupyter notebook you create for this course."
   ]
  },
  {
   "cell_type": "code",
   "execution_count": 1,
   "id": "4979293d",
   "metadata": {},
   "outputs": [],
   "source": [
    "import numpy as np\n",
    "import matplotlib.pyplot as plt"
   ]
  },
  {
   "cell_type": "markdown",
   "id": "08127ea1",
   "metadata": {},
   "source": [
    "## 1.2(a)\n",
    "\n",
    "Here, you are to make _linear_ plots of two functions.  First, use NumPy to create an array called `x` that covers the range of interest."
   ]
  },
  {
   "cell_type": "code",
   "execution_count": 2,
   "id": "9036ff78",
   "metadata": {},
   "outputs": [],
   "source": [
    "x = np.array([2,3,4,5,6,7])"
   ]
  },
  {
   "cell_type": "markdown",
   "id": "5adb5c7a",
   "metadata": {},
   "source": [
    "Next, use the functions `np.exp` and the operation `**` (raise to a power) to create the two function arrays."
   ]
  },
  {
   "cell_type": "code",
   "execution_count": 3,
   "id": "24221539",
   "metadata": {},
   "outputs": [],
   "source": [
    "f1 = np.exp(x)\n",
    "f2 = x**(3.5)"
   ]
  },
  {
   "cell_type": "markdown",
   "id": "2d93a965",
   "metadata": {},
   "source": [
    "Now use `plt.plot` to graph the two functions on the same axes.  Be sure to label the axes.  Add a title and a legend for style points."
   ]
  },
  {
   "cell_type": "code",
   "execution_count": 4,
   "id": "972b7794",
   "metadata": {},
   "outputs": [
    {
     "data": {
      "text/plain": [
       "Text(0.5, 1.0, 'Graph Regular')"
      ]
     },
     "execution_count": 4,
     "metadata": {},
     "output_type": "execute_result"
    },
    {
     "data": {
      "image/png": "[encoded data removed]",
      "text/plain": [
       "<Figure size 432x288 with 1 Axes>"
      ]
     },
     "metadata": {
      "needs_background": "light"
     },
     "output_type": "display_data"
    }
   ],
   "source": [
    "plt.plot(x,f1, 'bo')\n",
    "plt.plot(x,f2, 'ro')\n",
    "\n",
    "plt.xlabel(\"X\")\n",
    "plt.ylabel(\"Y\")\n",
    "plt.title(\"Graph Regular\")"
   ]
  },
  {
   "cell_type": "markdown",
   "id": "90976582",
   "metadata": {},
   "source": [
    "## 1.2(b)\n",
    "\n",
    "Here, you are to make a _semilog_ plot of the two functions.  You do not have to create any new arrays.  Python remembers what they are.  We only need to create a new plot.\n",
    "\n",
    "Use `plt.semilogy` to plot $\\log y$ vs $x$.  As before, plot both functions on the same axes.  Be sure to label the axes.  Add a title and a legend for style points."
   ]
  },
  {
   "cell_type": "code",
   "execution_count": 5,
   "id": "0da75303",
   "metadata": {},
   "outputs": [
    {
     "data": {
      "text/plain": [
       "Text(0.5, 1.0, 'Graph Semi-Log')"
      ]
     },
     "execution_count": 5,
     "metadata": {},
     "output_type": "execute_result"
    },
    {
     "data": {
      "image/png": "[encoded data removed]",
      "text/plain": [
       "<Figure size 432x288 with 1 Axes>"
      ]
     },
     "metadata": {
      "needs_background": "light"
     },
     "output_type": "display_data"
    }
   ],
   "source": [
    "plt.semilogy(x,f1,'bo')\n",
    "plt.semilogy(x,f2,'ro')\n",
    "\n",
    "plt.xlabel(\"X\")\n",
    "plt.ylabel(\"Y\")\n",
    "plt.title(\"Graph Semi-Log\")"
   ]
  },
  {
   "cell_type": "markdown",
   "id": "8985db65",
   "metadata": {},
   "source": [
    "From the text of the problem, \"_What outstanding feature of the exponential function jumps out in this representation?_\"\n",
    "\n",
    "Use the cell below (which currently says \"Type Markdown and LaTeX\") to answer.  Note that, unlike the other cells in the notebook, this one is a Markdown cell.  When you run it, you will see formatted text rather than Python code and output.\n",
    "\n",
    "-----"
   ]
  },
  {
   "cell_type": "markdown",
   "id": "c7d642d8",
   "metadata": {},
   "source": [
    "When graphed with a log axis, the data is linear. "
   ]
  },
  {
   "cell_type": "markdown",
   "id": "83c3be25",
   "metadata": {},
   "source": [
    "-----\n",
    "\n",
    "## 1.2(c)\n",
    "\n",
    "Here, you are to make a _log-log_ plot of the two functions.  You do not have to create any new arrays.  Python remembers what they are.  We only need to create a new plot.\n",
    "\n",
    "Use `plt.loglog` to plot $\\log y$ vs $\\log x$.  As before, plot both functions on the same axes.  Be sure to label the axes.  Add a title and a legend for style points."
   ]
  },
  {
   "cell_type": "code",
   "execution_count": 6,
   "id": "cd951c2f",
   "metadata": {},
   "outputs": [
    {
     "data": {
      "text/plain": [
       "Text(0.5, 1.0, 'Graph Log')"
      ]
     },
     "execution_count": 6,
     "metadata": {},
     "output_type": "execute_result"
    },
    {
     "data": {
      "image/png": "[encoded data removed]",
      "text/plain": [
       "<Figure size 432x288 with 1 Axes>"
      ]
     },
     "metadata": {
      "needs_background": "light"
     },
     "output_type": "display_data"
    }
   ],
   "source": [
    "plt.loglog(x,f1,'bo')\n",
    "plt.loglog(x,f2,'ro')\n",
    "\n",
    "plt.xlabel(\"X\")\n",
    "plt.ylabel(\"Y\")\n",
    "plt.title(\"Graph Log\")"
   ]
  },
  {
   "cell_type": "markdown",
   "id": "85f960d9",
   "metadata": {},
   "source": [
    "Comment on this plot.\n",
    "\n",
    "-----"
   ]
  },
  {
   "cell_type": "markdown",
   "id": "d7842535",
   "metadata": {},
   "source": [
    "The arc of the points is opposite as in the semi-log graph"
   ]
  },
  {
   "cell_type": "markdown",
   "id": "e33b76b9",
   "metadata": {},
   "source": [
    "-----\n",
    "\n",
    "## Summary\n",
    "\n",
    "Use the space below to briefly summarize what you learned or further comment on the problem.\n",
    "\n",
    "-----"
   ]
  },
  {
   "cell_type": "markdown",
   "id": "49796ba1",
   "metadata": {},
   "source": [
    "This was a good refresher on python"
   ]
  },
  {
   "cell_type": "code",
   "execution_count": null,
   "id": "01b9ac7a",
   "metadata": {},
   "outputs": [],
   "source": []
  }
 ],
 "metadata": {
  "kernelspec": {
   "display_name": "Python 3 (ipykernel)",
   "language": "python",
   "name": "python3"
  },
  "language_info": {
   "codemirror_mode": {
    "name": "ipython",
    "version": 3
   },
   "file_extension": ".py",
   "mimetype": "text/x-python",
   "name": "python",
   "nbconvert_exporter": "python",
   "pygments_lexer": "ipython3",
   "version": "3.9.7"
  }
 },
 "nbformat": 4,
 "nbformat_minor": 5
}
