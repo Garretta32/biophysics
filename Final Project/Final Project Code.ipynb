{
 "cells": [
  {
   "cell_type": "code",
   "execution_count": 1,
   "id": "cec08d0c",
   "metadata": {},
   "outputs": [],
   "source": [
    "# Final Project - Stock Market Simulation - Garrett Allen"
   ]
  },
  {
   "cell_type": "code",
   "execution_count": 2,
   "id": "71bf745b",
   "metadata": {},
   "outputs": [],
   "source": [
    "# Garrett Allen\n",
    "import numpy as np\n",
    "import matplotlib.pyplot as plt\n",
    "import scipy.special as ss\n",
    "from scipy.special import binom\n",
    "from numpy import random\n",
    "from scipy.stats import norm\n",
    "import math\n",
    "from scipy.stats import stats\n",
    "from scipy.special import beta\n",
    "from scipy.signal import convolve\n",
    "from mpl_toolkits import mplot3d\n",
    "from numpy.random import default_rng\n",
    "rand = default_rng().random\n",
    "from scipy.integrate import odeint"
   ]
  },
  {
   "cell_type": "code",
   "execution_count": 3,
   "id": "32375148",
   "metadata": {},
   "outputs": [
    {
     "name": "stdout",
     "output_type": "stream",
     "text": [
      "Percent of Days that the Market will move =  98.24174557051268 %\n"
     ]
    }
   ],
   "source": [
    "# Changes\n",
    "Normal_Up =     1 + (2.5 / 100)\n",
    "Normal_Down =   1 - (2.2 / 100)\n",
    "Large_Up =      1 + (4 / 100)\n",
    "Large_Down =    1 - (6.2 / 100)\n",
    "Crash =         1 - (30 / 100)\n",
    "\n",
    "# Occurences\n",
    "wNormal_Up =     1 / 2.2\n",
    "wNormal_Down =   1 / 2.7\n",
    "wLarge_Up =      1 / 14\n",
    "wLarge_Down =    1 / 12\n",
    "wCrash =         1 / 365\n",
    "\n",
    "check = wNormal_Up+wNormal_Down+wLarge_Up+wLarge_Down+wCrash\n",
    "print(\"Percent of Days that the Market will move = \",check*100,\"%\")\n",
    "\n",
    "#Sections\n",
    "sc = wCrash\n",
    "sld = wCrash + wLarge_Down\n",
    "slu = sld + wLarge_Up\n",
    "snd = slu + wNormal_Down\n",
    "snu = snd + wNormal_Up"
   ]
  },
  {
   "cell_type": "code",
   "execution_count": 4,
   "id": "042063ff",
   "metadata": {},
   "outputs": [
    {
     "name": "stdout",
     "output_type": "stream",
     "text": [
      "Average Market Change Over a Year =  8.40465977451771 %\n"
     ]
    }
   ],
   "source": [
    "# Average Market Trend Over a Year\n",
    "average_change = ((-(1-Crash)) * wCrash) + ((-(1-Large_Down)) * wLarge_Down) + ((-(1-Large_Up)) * wLarge_Up) + ((-(1-Normal_Down)) * wNormal_Down) + ((-(1-Normal_Up)) * wNormal_Up)\n",
    "print(\"Average Market Change Over a Year = \",average_change*100000,\"%\")"
   ]
  },
  {
   "cell_type": "code",
   "execution_count": 28,
   "id": "6b10cb3e",
   "metadata": {},
   "outputs": [],
   "source": [
    "Start_Value = 100    #Price that the market will start at\n",
    "days = 100           #How many days after day 0 that the market will run for \n",
    "bank = 500           #How much total money you can invest\n",
    "\n",
    "\n",
    "value = Start_Value\n",
    "market = [Start_Value]\n",
    "day_change = [0]\n",
    "for i in range(days):\n",
    "    rng = random.uniform(0,1)\n",
    "    #print(rng)\n",
    "    \n",
    "    x = 1\n",
    "    if rng < sc:\n",
    "        x = Crash\n",
    "    elif rng > sc and rng < sld:\n",
    "        x = Large_Down\n",
    "    elif rng > sld and rng < slu:\n",
    "        x = Large_Up\n",
    "    elif rng > slu and rng < snd:\n",
    "        x = Normal_Down\n",
    "    elif rng > snd and rng < snu:\n",
    "        x = Normal_Up\n",
    "    else:\n",
    "        x = 1\n",
    "    \n",
    "    #print(x)\n",
    "    day_change = np.append(day_change,x)\n",
    "    value = value * x\n",
    "    \n",
    "    market = np.append(market,value)\n",
    "\n",
    "#print(market)\n",
    "\n",
    "X = np.linspace(0,days,days+1)"
   ]
  },
  {
   "cell_type": "code",
   "execution_count": 29,
   "id": "c329e203",
   "metadata": {},
   "outputs": [
    {
     "data": {
      "text/plain": [
       "Text(0.5, 0, 'Day')"
      ]
     },
     "execution_count": 29,
     "metadata": {},
     "output_type": "execute_result"
    },
    {
     "data": {
      "image/png": "[encoded data removed]",
      "text/plain": [
       "<Figure size 432x288 with 1 Axes>"
      ]
     },
     "metadata": {
      "needs_background": "light"
     },
     "output_type": "display_data"
    }
   ],
   "source": [
    "plot = plt.plot(X,market,'g-')\n",
    "plt.title('Random Market')\n",
    "plt.ylabel('Value')\n",
    "plt.xlabel('Day')\n"
   ]
  },
  {
   "cell_type": "code",
   "execution_count": 30,
   "id": "945d61fd",
   "metadata": {},
   "outputs": [],
   "source": [
    "#print(market)\n",
    "#print(day_change)"
   ]
  },
  {
   "cell_type": "code",
   "execution_count": 31,
   "id": "a1063bab",
   "metadata": {},
   "outputs": [],
   "source": [
    "# Investing All Day 1\n",
    "invest = np.zeros((days+1,), dtype=int)\n",
    "invest[1] = bank\n",
    "\n",
    "#print(invest)\n",
    "\n",
    "invest_value = 0\n",
    "ivk = []\n",
    "\n",
    "for j in range (days+1):\n",
    "    invest_value = (invest[j] + invest_value) * day_change[j]\n",
    "    ivk = np.append(ivk,invest_value)\n",
    "    \n",
    "#print(ivk)\n"
   ]
  },
  {
   "cell_type": "code",
   "execution_count": 32,
   "id": "ad076ac7",
   "metadata": {},
   "outputs": [],
   "source": [
    "# Investing Linear\n",
    "invest2 = np.zeros((days+1,), dtype=int)\n",
    "\n",
    "for k in range (days):\n",
    "    invest2[k+1] = bank / days\n",
    "\n",
    "\n",
    "#print(invest2)\n",
    "\n",
    "invest_value2 = 0\n",
    "ivk2 = []\n",
    "\n",
    "for j in range (days+1):\n",
    "    invest_value2 = (invest2[j] + invest_value2) * day_change[j]\n",
    "    ivk2 = np.append(ivk2,invest_value2)\n",
    "\n",
    "#print(ivk2)\n"
   ]
  },
  {
   "cell_type": "code",
   "execution_count": 33,
   "id": "135e4ad6",
   "metadata": {},
   "outputs": [],
   "source": [
    "# Investing Fast (Log?)\n",
    "invest3 = np.zeros((days+1,), dtype=int)\n",
    "\n",
    "banc = bank\n",
    "\n",
    "for k in range (days):\n",
    "    invest3[k+1] = banc / 10\n",
    "    newbanc = banc - (banc / 10)\n",
    "    banc = newbanc\n",
    "\n",
    "#print(invest3)\n",
    "\n",
    "invest_value3 = 0\n",
    "ivk3 = []\n",
    "\n",
    "for j in range (days+1):\n",
    "    invest_value3 = (invest3[j] + invest_value3) * day_change[j]\n",
    "    ivk3 = np.append(ivk3,invest_value3)\n",
    "\n",
    "#print(ivk3)\n"
   ]
  },
  {
   "cell_type": "code",
   "execution_count": 34,
   "id": "a46ba3d6",
   "metadata": {},
   "outputs": [
    {
     "data": {
      "text/plain": [
       "(0.0, 1000.0)"
      ]
     },
     "execution_count": 34,
     "metadata": {},
     "output_type": "execute_result"
    },
    {
     "data": {
      "image/png": "[encoded data removed]",
      "text/plain": [
       "<Figure size 432x288 with 1 Axes>"
      ]
     },
     "metadata": {
      "needs_background": "light"
     },
     "output_type": "display_data"
    }
   ],
   "source": [
    "# Plots\n",
    "plt.plot(X,ivk,'g',label = \"All In\")\n",
    "plt.plot(X,ivk2,'b', label = \"Linear\")\n",
    "plt.plot(X,ivk3,'r', label = \"Log\")\n",
    "plt.title('Invested Value')\n",
    "plt.xlabel('Day')\n",
    "plt.ylabel('Price')\n",
    "plt.legend(loc=\"upper right\")\n",
    "\n",
    "lowlimitx = 1\n",
    "highlimitx = days + 1\n",
    "lowlimity = 0\n",
    "highlimity = bank * 2\n",
    "\n",
    "\n",
    "plt.xlim(lowlimitx,highlimitx)\n",
    "plt.ylim(lowlimity,highlimity)"
   ]
  },
  {
   "cell_type": "code",
   "execution_count": 35,
   "id": "5a0f56ee",
   "metadata": {},
   "outputs": [
    {
     "name": "stdout",
     "output_type": "stream",
     "text": [
      "All In Final Value =  409.6310394401003\n",
      "Linear Final Value =  539.2688006340986\n",
      "Log Final Value =  434.4713177504849\n"
     ]
    }
   ],
   "source": [
    "print(\"All In Final Value = \",ivk[-1])\n",
    "print(\"Linear Final Value = \",ivk2[-1])\n",
    "print(\"Log Final Value = \",ivk3[-1])"
   ]
  },
  {
   "cell_type": "code",
   "execution_count": null,
   "id": "183925c2",
   "metadata": {},
   "outputs": [],
   "source": []
  },
  {
   "cell_type": "code",
   "execution_count": null,
   "id": "2a22244d",
   "metadata": {},
   "outputs": [],
   "source": []
  }
 ],
 "metadata": {
  "kernelspec": {
   "display_name": "Python 3 (ipykernel)",
   "language": "python",
   "name": "python3"
  },
  "language_info": {
   "codemirror_mode": {
    "name": "ipython",
    "version": 3
   },
   "file_extension": ".py",
   "mimetype": "text/x-python",
   "name": "python",
   "nbconvert_exporter": "python",
   "pygments_lexer": "ipython3",
   "version": "3.9.7"
  }
 },
 "nbformat": 4,
 "nbformat_minor": 5
}
