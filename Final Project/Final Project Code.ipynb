{
 "cells": [
  {
   "cell_type": "code",
   "execution_count": 1,
   "id": "cec08d0c",
   "metadata": {},
   "outputs": [],
   "source": [
    "# Final Project - Stock Market Simulation - Garrett Allen"
   ]
  },
  {
   "cell_type": "code",
   "execution_count": 2,
   "id": "71bf745b",
   "metadata": {},
   "outputs": [],
   "source": [
    "# Garrett Allen\n",
    "import numpy as np\n",
    "import matplotlib.pyplot as plt\n",
    "import scipy.special as ss\n",
    "from scipy.special import binom\n",
    "from numpy import random\n",
    "from scipy.stats import norm\n",
    "import math\n",
    "from scipy.stats import stats\n",
    "from scipy.special import beta\n",
    "from scipy.signal import convolve\n",
    "from mpl_toolkits import mplot3d\n",
    "from numpy.random import default_rng\n",
    "rand = default_rng().random\n",
    "from scipy.integrate import odeint"
   ]
  },
  {
   "cell_type": "code",
   "execution_count": 60,
   "id": "32375148",
   "metadata": {},
   "outputs": [
    {
     "name": "stdout",
     "output_type": "stream",
     "text": [
      "Percent of Days that the Market will move =  98.24174557051268 %\n"
     ]
    }
   ],
   "source": [
    "# Changes\n",
    "Normal_Up =     1 + (2.5 / 100)\n",
    "Normal_Down =   1 - (2.2 / 100)\n",
    "Large_Up =      1 + (4 / 100)\n",
    "Large_Down =    1 - (6.2 / 100)\n",
    "Crash =         1 - (30 / 100)\n",
    "\n",
    "# Occurences\n",
    "wNormal_Up =     1 / 2.2\n",
    "wNormal_Down =   1 / 2.7\n",
    "wLarge_Up =      1 / 14\n",
    "wLarge_Down =    1 / 12\n",
    "wCrash =         1 / 365\n",
    "\n",
    "check = wNormal_Up+wNormal_Down+wLarge_Up+wLarge_Down+wCrash\n",
    "print(\"Percent of Days that the Market will move = \",check*100,\"%\")\n",
    "\n",
    "#Sections\n",
    "sc = wCrash\n",
    "sld = wCrash + wLarge_Down\n",
    "slu = sld + wLarge_Up\n",
    "snd = slu + wNormal_Down\n",
    "snu = snd + wNormal_Up"
   ]
  },
  {
   "cell_type": "code",
   "execution_count": 61,
   "id": "042063ff",
   "metadata": {},
   "outputs": [
    {
     "name": "stdout",
     "output_type": "stream",
     "text": [
      "Average Market Change Over a Year =  8.40465977451771 %\n"
     ]
    }
   ],
   "source": [
    "# Average Market Trend Over a Year\n",
    "percent_change = ((-(1-Crash)) * wCrash) + ((-(1-Large_Down)) * wLarge_Down) + ((-(1-Large_Up)) * wLarge_Up) + ((-(1-Normal_Down)) * wNormal_Down) + ((-(1-Normal_Up)) * wNormal_Up)\n",
    "print(\"Average Market Change Over a Year = \",percent_change*100000,\"%\")"
   ]
  },
  {
   "cell_type": "code",
   "execution_count": 72,
   "id": "6b10cb3e",
   "metadata": {},
   "outputs": [],
   "source": [
    "Start_Value = 100\n",
    "days = 365\n",
    "\n",
    "value = Start_Value\n",
    "market = [Start_Value]\n",
    "for i in range(days):\n",
    "    rng = random.uniform(0,1)\n",
    "    #print(rng)\n",
    "    \n",
    "    x = 1\n",
    "    if rng < sc:\n",
    "        x = Crash\n",
    "    elif rng > sc and rng < sld:\n",
    "        x = Large_Down\n",
    "    elif rng > sld and rng < slu:\n",
    "        x = Large_Up\n",
    "    elif rng > slu and rng < snd:\n",
    "        x = Normal_Down\n",
    "    elif rng > snd and rng < snu:\n",
    "        x = Normal_Up\n",
    "    else:\n",
    "        x = 1\n",
    "    \n",
    "    #print(x)\n",
    "    value = value * x\n",
    "    \n",
    "    market = np.append(market,value)\n",
    "\n",
    "#print(market)\n",
    "\n",
    "X = np.linspace(0,days,days+1)"
   ]
  },
  {
   "cell_type": "code",
   "execution_count": 73,
   "id": "c329e203",
   "metadata": {},
   "outputs": [
    {
     "data": {
      "text/plain": [
       "Text(0.5, 0, 'Day')"
      ]
     },
     "execution_count": 73,
     "metadata": {},
     "output_type": "execute_result"
    },
    {
     "data": {
      "image/png": "[encoded data removed]",
      "text/plain": [
       "<Figure size 432x288 with 1 Axes>"
      ]
     },
     "metadata": {
      "needs_background": "light"
     },
     "output_type": "display_data"
    }
   ],
   "source": [
    "plot = plt.plot(X,market,'g-')\n",
    "plt.title('Random Market')\n",
    "plt.ylabel('Value')\n",
    "plt.xlabel('Day')\n"
   ]
  },
  {
   "cell_type": "code",
   "execution_count": null,
   "id": "945d61fd",
   "metadata": {},
   "outputs": [],
   "source": []
  },
  {
   "cell_type": "code",
   "execution_count": null,
   "id": "a1063bab",
   "metadata": {},
   "outputs": [],
   "source": []
  }
 ],
 "metadata": {
  "kernelspec": {
   "display_name": "Python 3 (ipykernel)",
   "language": "python",
   "name": "python3"
  },
  "language_info": {
   "codemirror_mode": {
    "name": "ipython",
    "version": 3
   },
   "file_extension": ".py",
   "mimetype": "text/x-python",
   "name": "python",
   "nbconvert_exporter": "python",
   "pygments_lexer": "ipython3",
   "version": "3.9.7"
  }
 },
 "nbformat": 4,
 "nbformat_minor": 5
}
