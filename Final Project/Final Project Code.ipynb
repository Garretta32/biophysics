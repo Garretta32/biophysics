{
 "cells": [
  {
   "cell_type": "code",
   "execution_count": 1,
   "id": "cec08d0c",
   "metadata": {},
   "outputs": [],
   "source": [
    "# Final Project - Stock Market Simulation - Garrett Allen"
   ]
  },
  {
   "cell_type": "code",
   "execution_count": 2,
   "id": "71bf745b",
   "metadata": {},
   "outputs": [],
   "source": [
    "# Garrett Allen\n",
    "import numpy as np\n",
    "import matplotlib.pyplot as plt\n",
    "import scipy.special as ss\n",
    "from scipy.special import binom\n",
    "from numpy import random\n",
    "from scipy.stats import norm\n",
    "import math\n",
    "from scipy.stats import stats\n",
    "from scipy.special import beta\n",
    "from scipy.signal import convolve\n",
    "from mpl_toolkits import mplot3d\n",
    "from numpy.random import default_rng\n",
    "rand = default_rng().random\n",
    "from scipy.integrate import odeint"
   ]
  },
  {
   "cell_type": "code",
   "execution_count": 3,
   "id": "32375148",
   "metadata": {},
   "outputs": [
    {
     "name": "stdout",
     "output_type": "stream",
     "text": [
      "Percent of Days that the Market will move =  98.24174557051268 %\n"
     ]
    }
   ],
   "source": [
    "# Changes\n",
    "Normal_Up =     1 + (2.5 / 100)\n",
    "Normal_Down =   1 - (2.2 / 100)\n",
    "Large_Up =      1 + (4 / 100)\n",
    "Large_Down =    1 - (6.2 / 100)\n",
    "Crash =         1 - (30 / 100)\n",
    "\n",
    "# Occurences\n",
    "wNormal_Up =     1 / 2.2\n",
    "wNormal_Down =   1 / 2.7\n",
    "wLarge_Up =      1 / 14\n",
    "wLarge_Down =    1 / 12\n",
    "wCrash =         1 / 365\n",
    "\n",
    "check = wNormal_Up+wNormal_Down+wLarge_Up+wLarge_Down+wCrash\n",
    "print(\"Percent of Days that the Market will move = \",check*100,\"%\")\n",
    "\n",
    "#Sections\n",
    "sc = wCrash\n",
    "sld = wCrash + wLarge_Down\n",
    "slu = sld + wLarge_Up\n",
    "snd = slu + wNormal_Down\n",
    "snu = snd + wNormal_Up"
   ]
  },
  {
   "cell_type": "code",
   "execution_count": 4,
   "id": "042063ff",
   "metadata": {},
   "outputs": [
    {
     "name": "stdout",
     "output_type": "stream",
     "text": [
      "Average Market Change Over a Year =  8.40465977451771 %\n"
     ]
    }
   ],
   "source": [
    "# Average Market Trend Over a Year\n",
    "average_change = ((-(1-Crash)) * wCrash) + ((-(1-Large_Down)) * wLarge_Down) + ((-(1-Large_Up)) * wLarge_Up) + ((-(1-Normal_Down)) * wNormal_Down) + ((-(1-Normal_Up)) * wNormal_Up)\n",
    "print(\"Average Market Change Over a Year = \",average_change*100000,\"%\")"
   ]
  },
  {
   "cell_type": "code",
   "execution_count": 81,
   "id": "6b10cb3e",
   "metadata": {},
   "outputs": [
    {
     "name": "stdout",
     "output_type": "stream",
     "text": [
      "1.025\n",
      "1.025\n",
      "0.978\n",
      "1.025\n",
      "1.025\n",
      "1.025\n",
      "0.978\n",
      "0.978\n",
      "0.978\n",
      "0.978\n"
     ]
    }
   ],
   "source": [
    "Start_Value = 100    #Price that the market will start at\n",
    "days = 10            #How many days after day 0 that the market will run for \n",
    "bank = 100           #How much total money you can invest\n",
    "\n",
    "\n",
    "value = Start_Value\n",
    "market = [Start_Value]\n",
    "day_change = [0]\n",
    "for i in range(days):\n",
    "    rng = random.uniform(0,1)\n",
    "    #print(rng)\n",
    "    \n",
    "    x = 1\n",
    "    if rng < sc:\n",
    "        x = Crash\n",
    "    elif rng > sc and rng < sld:\n",
    "        x = Large_Down\n",
    "    elif rng > sld and rng < slu:\n",
    "        x = Large_Up\n",
    "    elif rng > slu and rng < snd:\n",
    "        x = Normal_Down\n",
    "    elif rng > snd and rng < snu:\n",
    "        x = Normal_Up\n",
    "    else:\n",
    "        x = 1\n",
    "    \n",
    "    print(x)\n",
    "    day_change = np.append(day_change,x)\n",
    "    value = value * x\n",
    "    \n",
    "    market = np.append(market,value)\n",
    "\n",
    "#print(market)\n",
    "\n",
    "X = np.linspace(0,days,days+1)"
   ]
  },
  {
   "cell_type": "code",
   "execution_count": 82,
   "id": "2b2b5532",
   "metadata": {},
   "outputs": [
    {
     "name": "stdout",
     "output_type": "stream",
     "text": [
      "0.00023026465135664957\n"
     ]
    }
   ],
   "source": [
    "average_return_per_day = average_change / 365 * 1000\n",
    "print(average_return_per_day)\n",
    "w = np.linspace(0,days,days+1)\n",
    "z = (Start_Value - 1) + (np.exp(average_return_per_day*w))\n"
   ]
  },
  {
   "cell_type": "code",
   "execution_count": 83,
   "id": "c329e203",
   "metadata": {},
   "outputs": [
    {
     "ename": "TypeError",
     "evalue": "'str' object is not callable",
     "output_type": "error",
     "traceback": [
      "\u001b[1;31m---------------------------------------------------------------------------\u001b[0m",
      "\u001b[1;31mTypeError\u001b[0m                                 Traceback (most recent call last)",
      "\u001b[1;32mC:\\Users\\GARRET~1\\AppData\\Local\\Temp/ipykernel_4400/446162696.py\u001b[0m in \u001b[0;36m<module>\u001b[1;34m\u001b[0m\n\u001b[0;32m      2\u001b[0m \u001b[0mplt\u001b[0m\u001b[1;33m.\u001b[0m\u001b[0mtitle\u001b[0m\u001b[1;33m(\u001b[0m\u001b[1;34m'Random Market'\u001b[0m\u001b[1;33m)\u001b[0m\u001b[1;33m\u001b[0m\u001b[1;33m\u001b[0m\u001b[0m\n\u001b[0;32m      3\u001b[0m \u001b[0mplt\u001b[0m\u001b[1;33m.\u001b[0m\u001b[0mylabel\u001b[0m\u001b[1;33m(\u001b[0m\u001b[1;34m'Value'\u001b[0m\u001b[1;33m)\u001b[0m\u001b[1;33m\u001b[0m\u001b[1;33m\u001b[0m\u001b[0m\n\u001b[1;32m----> 4\u001b[1;33m \u001b[0mplt\u001b[0m\u001b[1;33m.\u001b[0m\u001b[0mxlabel\u001b[0m\u001b[1;33m(\u001b[0m\u001b[1;34m'Day'\u001b[0m\u001b[1;33m)\u001b[0m\u001b[1;33m\u001b[0m\u001b[1;33m\u001b[0m\u001b[0m\n\u001b[0m",
      "\u001b[1;31mTypeError\u001b[0m: 'str' object is not callable"
     ]
    },
    {
     "data": {
      "image/png": "[encoded data removed]",
      "text/plain": [
       "<Figure size 432x288 with 1 Axes>"
      ]
     },
     "metadata": {
      "needs_background": "light"
     },
     "output_type": "display_data"
    }
   ],
   "source": [
    "plot = plt.plot(X,market,'g-')\n",
    "plt.title('Random Market')\n",
    "plt.ylabel('Value')\n",
    "plt.xlabel('Day')\n"
   ]
  },
  {
   "cell_type": "code",
   "execution_count": 84,
   "id": "945d61fd",
   "metadata": {},
   "outputs": [
    {
     "name": "stdout",
     "output_type": "stream",
     "text": [
      "[100.         102.5        105.0625     102.751125   105.31990312\n",
      " 107.9529007  110.65172322 108.21738531 105.83660283 103.50819757\n",
      " 101.23101722]\n",
      "[0.    1.025 1.025 0.978 1.025 1.025 1.025 0.978 0.978 0.978 0.978]\n"
     ]
    }
   ],
   "source": [
    "print(market)\n",
    "print(day_change)"
   ]
  },
  {
   "cell_type": "code",
   "execution_count": 85,
   "id": "a1063bab",
   "metadata": {},
   "outputs": [
    {
     "name": "stdout",
     "output_type": "stream",
     "text": [
      "[  0 100   0   0   0   0   0   0   0   0   0]\n",
      "[  0.         102.5        105.0625     102.751125   105.31990312\n",
      " 107.9529007  110.65172322 108.21738531 105.83660283 103.50819757\n",
      " 101.23101722]\n"
     ]
    }
   ],
   "source": [
    "# Investing All Day 1\n",
    "invest = np.zeros((days+1,), dtype=int)\n",
    "invest[1] = bank\n",
    "\n",
    "print(invest)\n",
    "\n",
    "invest_value = 0\n",
    "ivk = []\n",
    "\n",
    "for j in range (days+1):\n",
    "    invest_value = (invest[j] + invest_value) * day_change[j]\n",
    "    ivk = np.append(ivk,invest_value)\n",
    "    \n",
    "print(ivk)\n"
   ]
  },
  {
   "cell_type": "code",
   "execution_count": 86,
   "id": "ad076ac7",
   "metadata": {},
   "outputs": [
    {
     "name": "stdout",
     "output_type": "stream",
     "text": [
      "[ 0 10 10 10 10 10 10 10 10 10 10]\n",
      "[ 0.         10.25       20.75625    30.0796125  41.08160281 52.35864288\n",
      " 63.91760895 72.29142156 80.48101028 88.49042806 96.32363864]\n"
     ]
    }
   ],
   "source": [
    "# Investing Linear\n",
    "invest2 = np.zeros((days+1,), dtype=int)\n",
    "\n",
    "for k in range (days):\n",
    "    invest2[k+1] = bank / days\n",
    "\n",
    "\n",
    "print(invest2)\n",
    "\n",
    "invest_value2 = 0\n",
    "ivk2 = []\n",
    "\n",
    "for j in range (days+1):\n",
    "    invest_value2 = (invest2[j] + invest_value2) * day_change[j]\n",
    "    ivk2 = np.append(ivk2,invest_value2)\n",
    "\n",
    "print(ivk2)\n"
   ]
  },
  {
   "cell_type": "code",
   "execution_count": 88,
   "id": "a46ba3d6",
   "metadata": {},
   "outputs": [
    {
     "name": "stdout",
     "output_type": "stream",
     "text": [
      "[100.         100.00023029 100.00046064 100.00069103 100.00092148\n",
      " 100.00115199 100.00138254 100.00161315 100.00184381 100.00207453\n",
      " 100.0023053 ]\n"
     ]
    },
    {
     "data": {
      "image/png": "[encoded data removed]",
      "text/plain": [
       "<Figure size 432x288 with 1 Axes>"
      ]
     },
     "metadata": {
      "needs_background": "light"
     },
     "output_type": "display_data"
    }
   ],
   "source": [
    "# Plots\n",
    "plt.plot(X,ivk,'g',label = \"All In\")\n",
    "plt.plot(X,ivk2,'b', label = \"Linear\")\n",
    "plt.plot(X,z,'k', label = \"Average\")\n",
    "plt.title('Invested Value')\n",
    "plt.ylabel('Price')\n",
    "plt.legend(loc=\"upper right\")\n",
    "\n",
    "lowlimitx = 1\n",
    "highlimitx = days + 1\n",
    "lowlimity = 0\n",
    "highlimity = bank * 2\n",
    "\n",
    "\n",
    "plt.xlim(lowlimitx,highlimitx)\n",
    "plt.ylim(lowlimity,highlimity)\n",
    "print(z)"
   ]
  },
  {
   "cell_type": "code",
   "execution_count": null,
   "id": "5a0f56ee",
   "metadata": {},
   "outputs": [],
   "source": []
  },
  {
   "cell_type": "code",
   "execution_count": null,
   "id": "183925c2",
   "metadata": {},
   "outputs": [],
   "source": []
  },
  {
   "cell_type": "code",
   "execution_count": null,
   "id": "2a22244d",
   "metadata": {},
   "outputs": [],
   "source": []
  }
 ],
 "metadata": {
  "kernelspec": {
   "display_name": "Python 3 (ipykernel)",
   "language": "python",
   "name": "python3"
  },
  "language_info": {
   "codemirror_mode": {
    "name": "ipython",
    "version": 3
   },
   "file_extension": ".py",
   "mimetype": "text/x-python",
   "name": "python",
   "nbconvert_exporter": "python",
   "pygments_lexer": "ipython3",
   "version": "3.9.7"
  }
 },
 "nbformat": 4,
 "nbformat_minor": 5
}
