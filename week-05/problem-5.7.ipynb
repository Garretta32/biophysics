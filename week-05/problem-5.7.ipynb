{
 "cells": [
  {
   "cell_type": "markdown",
   "id": "85c9e54f",
   "metadata": {},
   "source": [
    "# Problem 5.7\n",
    "\n",
    "Use this notebook to present your work on the problem.  If you write scripts, store them in this folder and run them within this notebook to produce the requested histograms."
   ]
  },
  {
   "cell_type": "markdown",
   "id": "0fa030a6",
   "metadata": {},
   "source": [
    "## (a) __Histogram of $1/x$__"
   ]
  },
  {
   "cell_type": "code",
   "execution_count": 1,
   "id": "897af508",
   "metadata": {},
   "outputs": [],
   "source": [
    "# Garrett Allen\n",
    "import numpy as np\n",
    "import matplotlib.pyplot as plt\n",
    "import scipy.special as ss\n",
    "from scipy.special import binom\n",
    "from numpy import random\n",
    "from scipy.stats import norm\n",
    "import math"
   ]
  },
  {
   "cell_type": "code",
   "execution_count": 2,
   "id": "a09ca4fd",
   "metadata": {},
   "outputs": [],
   "source": [
    "#sd = 1\n",
    "#x = np.linspace(-4*sd, 4*sd, num=101)\n",
    "#print(x)\n",
    "#ux = 0\n",
    "#pi = 3.1415\n",
    "\n",
    "#xet = -(x-ux)**2\n",
    "#xeb = (2*sd)**2\n",
    "#xf = 1/(sd*((2*pi)**0.5))\n",
    "\n",
    "#fx = xf*math.exp(xet/xeb)"
   ]
  },
  {
   "cell_type": "code",
   "execution_count": 3,
   "id": "3b5bad81",
   "metadata": {},
   "outputs": [],
   "source": [
    "mean = 0\n",
    "sd = 1\n",
    "x = np.random.normal(mean, sd, 10000)\n",
    "\n",
    "bins = 1000"
   ]
  },
  {
   "cell_type": "code",
   "execution_count": 4,
   "id": "49e942f3",
   "metadata": {},
   "outputs": [
    {
     "data": {
      "text/plain": [
       "Text(0.5, 1.0, 'Histogram Normal')"
      ]
     },
     "execution_count": 4,
     "metadata": {},
     "output_type": "execute_result"
    },
    {
     "data": {
      "image/png": "[encoded data removed]",
      "text/plain": [
       "<Figure size 432x288 with 1 Axes>"
      ]
     },
     "metadata": {
      "needs_background": "light"
     },
     "output_type": "display_data"
    }
   ],
   "source": [
    "hist = plt.hist(x, bins=bins)\n",
    "plt.xlabel(\"X\")\n",
    "plt.ylabel(\"PDF(X)\")\n",
    "plt.title(\"Histogram Normal\")"
   ]
  },
  {
   "cell_type": "code",
   "execution_count": 5,
   "id": "6e91b5c6",
   "metadata": {},
   "outputs": [],
   "source": [
    "inv_x = 1/x"
   ]
  },
  {
   "cell_type": "code",
   "execution_count": 6,
   "id": "56bf742d",
   "metadata": {},
   "outputs": [
    {
     "data": {
      "text/plain": [
       "Text(0.5, 1.0, 'Histogram Inverse')"
      ]
     },
     "execution_count": 6,
     "metadata": {},
     "output_type": "execute_result"
    },
    {
     "data": {
      "image/png": "[encoded data removed]",
      "text/plain": [
       "<Figure size 432x288 with 1 Axes>"
      ]
     },
     "metadata": {
      "needs_background": "light"
     },
     "output_type": "display_data"
    }
   ],
   "source": [
    "hist = plt.hist(inv_x, bins=bins)\n",
    "plt.xlabel(\"X\")\n",
    "plt.ylabel(\"PDF(X)\")\n",
    "plt.title(\"Histogram Inverse\")"
   ]
  },
  {
   "cell_type": "code",
   "execution_count": null,
   "id": "9532c81e",
   "metadata": {},
   "outputs": [],
   "source": []
  },
  {
   "cell_type": "code",
   "execution_count": null,
   "id": "a2177217",
   "metadata": {},
   "outputs": [],
   "source": []
  },
  {
   "cell_type": "markdown",
   "id": "88949d46",
   "metadata": {},
   "source": [
    "## (b) Log-log plot of frequencies"
   ]
  },
  {
   "cell_type": "code",
   "execution_count": 7,
   "id": "47458b9a",
   "metadata": {},
   "outputs": [
    {
     "data": {
      "image/png": "[encoded data removed]",
      "text/plain": [
       "<Figure size 432x288 with 1 Axes>"
      ]
     },
     "metadata": {
      "needs_background": "light"
     },
     "output_type": "display_data"
    }
   ],
   "source": [
    "hist = plt.hist(inv_x, bins=bins)\n",
    "plt.xlabel(\"X\")\n",
    "plt.ylabel(\"PDF(X)\")\n",
    "plt.title(\"Histogram Inverse Log-Log\")\n",
    "plt.xscale('log',base=10)\n",
    "plt.yscale('log',base=10) "
   ]
  },
  {
   "cell_type": "markdown",
   "id": "4de037f5",
   "metadata": {},
   "source": [
    "## (c) Analysis and Conclusions"
   ]
  },
  {
   "cell_type": "markdown",
   "id": "e57b89c6",
   "metadata": {},
   "source": [
    "The inverse of the points tightens up the graph considerably. And viewing as a log graph, the data appears almost linear. This might show that the probability decay is exponential in nature."
   ]
  },
  {
   "cell_type": "markdown",
   "id": "6af74d8d",
   "metadata": {},
   "source": [
    "## (d) Numerical experiments with more samples"
   ]
  },
  {
   "cell_type": "code",
   "execution_count": null,
   "id": "6abf7027",
   "metadata": {},
   "outputs": [],
   "source": []
  }
 ],
 "metadata": {
  "kernelspec": {
   "display_name": "Python 3 (ipykernel)",
   "language": "python",
   "name": "python3"
  },
  "language_info": {
   "codemirror_mode": {
    "name": "ipython",
    "version": 3
   },
   "file_extension": ".py",
   "mimetype": "text/x-python",
   "name": "python",
   "nbconvert_exporter": "python",
   "pygments_lexer": "ipython3",
   "version": "3.9.7"
  }
 },
 "nbformat": 4,
 "nbformat_minor": 5
}
