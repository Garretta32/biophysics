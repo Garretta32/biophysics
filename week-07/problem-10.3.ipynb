{
 "cells": [
  {
   "cell_type": "markdown",
   "id": "014e2bd5",
   "metadata": {},
   "source": [
    "# 10.3 RANDOM WALK WITH RANDOM WAITING TIMES\n",
    "\n",
    "Use this notebook to store your work for this problem."
   ]
  },
  {
   "cell_type": "code",
   "execution_count": 4,
   "id": "ae646695",
   "metadata": {},
   "outputs": [],
   "source": [
    "# Garrett Allen\n",
    "import numpy as np\n",
    "import matplotlib.pyplot as plt\n",
    "import scipy.special as ss\n",
    "from scipy.special import binom\n",
    "from numpy import random\n",
    "from scipy.stats import norm\n",
    "import math\n",
    "from scipy.stats import stats\n",
    "from scipy.special import beta\n",
    "from scipy.signal import convolve\n",
    "from mpl_toolkits import mplot3d\n",
    "from numpy.random import default_rng\n",
    "rand = default_rng().random"
   ]
  },
  {
   "cell_type": "markdown",
   "id": "5610b9f6",
   "metadata": {},
   "source": [
    "## (a)"
   ]
  },
  {
   "cell_type": "code",
   "execution_count": 26,
   "id": "25dd5dae",
   "metadata": {},
   "outputs": [
    {
     "data": {
      "text/plain": [
       "[<matplotlib.lines.Line2D at 0x28546624ee0>]"
      ]
     },
     "execution_count": 26,
     "metadata": {},
     "output_type": "execute_result"
    },
    {
     "data": {
      "image/png": "[encoded data removed]",
      "text/plain": [
       "<Figure size 432x288 with 1 Axes>"
      ]
     },
     "metadata": {
      "needs_background": "light"
     },
     "output_type": "display_data"
    }
   ],
   "source": [
    "beta = 1\n",
    "N = 500\n",
    "u = rand(N)\n",
    "u2 = rand(N)\n",
    "y = -np.log(u)\n",
    "y2 = -np.log(u2)\n",
    "t = y/beta\n",
    "t2 = y2/beta\n",
    "\n",
    "# total elapsed time\n",
    "time = t.cumsum()\n",
    "time2 = t.cumsum()\n",
    "#print(time)\n",
    "\n",
    "# probability of a step to the right\n",
    "xi = 0.5\n",
    "\n",
    "steps = 2*(rand(N) < xi) - 1\n",
    "steps2 = 2*(rand(N) < xi) - 1\n",
    "location = steps.cumsum()\n",
    "location2 = steps2.cumsum()\n",
    "#print(location)\n",
    "\n",
    "time_cutoff = 400\n",
    "plt.plot(time[time<time_cutoff], location[time<time_cutoff], 'b-')\n",
    "plt.plot(time2[time<time_cutoff], location2[time<time_cutoff], 'g-')"
   ]
  },
  {
   "cell_type": "markdown",
   "id": "377db16d",
   "metadata": {},
   "source": [
    "## (b)"
   ]
  },
  {
   "cell_type": "code",
   "execution_count": 63,
   "id": "9f51aa34",
   "metadata": {},
   "outputs": [
    {
     "name": "stdout",
     "output_type": "stream",
     "text": [
      "Mean =  -1.08 Variance =  300.1936\n",
      "Mean2 =  -1.0980392156862746 Variance2 =  294.323721645521\n"
     ]
    }
   ],
   "source": [
    "end_times = 50\n",
    "end_pos = []\n",
    "\n",
    "for i in range(end_times):\n",
    "    beta = 1\n",
    "    N = 400\n",
    "    u = rand(N)\n",
    "    u2 = rand(N)\n",
    "    y = -np.log(u)\n",
    "    y2 = -np.log(u2)\n",
    "    t = y/beta\n",
    "    t2 = y2/beta\n",
    "    # total elapsed time\n",
    "    time = t.cumsum()\n",
    "    time2 = t.cumsum()\n",
    "    #print(time)\n",
    "    # probability of a step to the right\n",
    "    xi = 0.5\n",
    "    steps = 2*(rand(N) < xi) - 1\n",
    "    steps2 = 2*(rand(N) < xi) - 1\n",
    "    location = steps.cumsum()\n",
    "    #print(location)\n",
    "    location2 = steps2.cumsum()\n",
    "    \n",
    "    end_pos = np.append(end_pos,location[N-1])\n",
    "    end_pos2 = np.append(end_pos,location2[N-1])\n",
    "\n",
    "#print(end_pos)\n",
    "\n",
    "mean = np.mean(end_pos)\n",
    "var = np.var(end_pos)\n",
    "print(\"Mean = \",mean,\"Variance = \",var)\n",
    "mean2 = np.mean(end_pos2)\n",
    "var2 = np.var(end_pos2)\n",
    "print(\"Mean2 = \",mean2,\"Variance2 = \",var2)"
   ]
  },
  {
   "cell_type": "markdown",
   "id": "4deb8b4c",
   "metadata": {},
   "source": [
    "## (c)"
   ]
  },
  {
   "cell_type": "code",
   "execution_count": null,
   "id": "bdfbd33b",
   "metadata": {},
   "outputs": [],
   "source": []
  },
  {
   "cell_type": "markdown",
   "id": "88aef6f2",
   "metadata": {},
   "source": [
    "## (d)"
   ]
  },
  {
   "cell_type": "code",
   "execution_count": null,
   "id": "1e29b033",
   "metadata": {},
   "outputs": [],
   "source": []
  },
  {
   "cell_type": "markdown",
   "id": "20866a49",
   "metadata": {},
   "source": [
    "## (e)"
   ]
  },
  {
   "cell_type": "code",
   "execution_count": null,
   "id": "ba53306b",
   "metadata": {},
   "outputs": [],
   "source": []
  }
 ],
 "metadata": {
  "kernelspec": {
   "display_name": "Python 3 (ipykernel)",
   "language": "python",
   "name": "python3"
  },
  "language_info": {
   "codemirror_mode": {
    "name": "ipython",
    "version": 3
   },
   "file_extension": ".py",
   "mimetype": "text/x-python",
   "name": "python",
   "nbconvert_exporter": "python",
   "pygments_lexer": "ipython3",
   "version": "3.9.7"
  }
 },
 "nbformat": 4,
 "nbformat_minor": 5
}
