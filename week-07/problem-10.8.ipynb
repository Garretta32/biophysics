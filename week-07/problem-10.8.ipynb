{
 "cells": [
  {
   "cell_type": "markdown",
   "id": "28934906",
   "metadata": {},
   "source": [
    "# 10.8 PROBABILITY OF ZERO COPIES\n",
    "\n",
    "Use this notebook to store your work for this problem."
   ]
  },
  {
   "cell_type": "code",
   "execution_count": 5,
   "id": "755a861e",
   "metadata": {},
   "outputs": [],
   "source": [
    "# Garrett Allen\n",
    "import numpy as np\n",
    "import matplotlib.pyplot as plt\n",
    "import scipy.special as ss\n",
    "from scipy.special import binom\n",
    "from numpy import random\n",
    "from scipy.stats import norm\n",
    "import math\n",
    "from scipy.stats import stats\n",
    "from scipy.special import beta\n",
    "from scipy.signal import convolve\n",
    "from mpl_toolkits import mplot3d\n",
    "from numpy.random import default_rng\n",
    "rand = default_rng().random"
   ]
  },
  {
   "cell_type": "code",
   "execution_count": 43,
   "id": "d3091994",
   "metadata": {},
   "outputs": [],
   "source": [
    "# Don’t understand how I am supposed to modify previous code because X either gets +1 or -1. It never just stays the same. Wrote new code that gives X equal probability to increase, decease, or stay the same."
   ]
  },
  {
   "cell_type": "code",
   "execution_count": 71,
   "id": "eead09da",
   "metadata": {},
   "outputs": [
    {
     "name": "stdout",
     "output_type": "stream",
     "text": [
      "[ 0  0  1  0  0  1  0 -1 -2 -2 -3]\n"
     ]
    },
    {
     "data": {
      "text/plain": [
       "[<matplotlib.lines.Line2D at 0x15f15b93400>]"
      ]
     },
     "execution_count": 71,
     "metadata": {},
     "output_type": "execute_result"
    },
    {
     "data": {
      "image/png": "[encoded data removed]",
      "text/plain": [
       "<Figure size 432x288 with 1 Axes>"
      ]
     },
     "metadata": {
      "needs_background": "light"
     },
     "output_type": "display_data"
    }
   ],
   "source": [
    "steps = 10\n",
    "stroll = [0]\n",
    "time = np.linspace(0,steps,steps+1)\n",
    "#print(time)\n",
    "    \n",
    "for i in range(steps):   \n",
    "    \n",
    "    x = 0\n",
    "    r = rand()\n",
    "\n",
    "    if r < 0.33:\n",
    "        x = x - 1\n",
    "\n",
    "    if r > 0.66:\n",
    "        x = x + 1\n",
    "    #print(x)\n",
    "    \n",
    "    stroll = np.append(stroll,x)\n",
    "    \n",
    "#print(stroll)\n",
    "\n",
    "location = stroll.cumsum()\n",
    "print(location)\n",
    "\n",
    "plt.plot(time,location,'g-')"
   ]
  },
  {
   "cell_type": "code",
   "execution_count": 90,
   "id": "2dcc7ef4",
   "metadata": {},
   "outputs": [
    {
     "data": {
      "text/plain": [
       "Text(0.5, 1.0, 'Day When You Start Moving')"
      ]
     },
     "execution_count": 90,
     "metadata": {},
     "output_type": "execute_result"
    },
    {
     "data": {
      "image/png": "[encoded data removed]",
      "text/plain": [
       "<Figure size 432x288 with 1 Axes>"
      ]
     },
     "metadata": {
      "needs_background": "light"
     },
     "output_type": "display_data"
    }
   ],
   "source": [
    "days = 365\n",
    "time_days = np.linspace(0,days,days)\n",
    "\n",
    "start_moving = []\n",
    "\n",
    "for j in range(days):\n",
    "    steps = 10\n",
    "    stroll = [0]\n",
    "    time = np.linspace(0,steps,steps+1)\n",
    "    #print(time)\n",
    "\n",
    "    for i in range(steps):   \n",
    "\n",
    "        x = 0\n",
    "        r = rand()\n",
    "\n",
    "        if r < 0.33:\n",
    "            x = x - 1\n",
    "\n",
    "        if r > 0.66:\n",
    "            x = x + 1\n",
    "        #print(x)\n",
    "\n",
    "        stroll = np.append(stroll,x)\n",
    "\n",
    "    #print(stroll)\n",
    "\n",
    "    location = stroll.cumsum()\n",
    "    #print(location)\n",
    "    \n",
    "    moving = np.where(stroll != 0)[0][0]\n",
    "    start_moving = np.append(start_moving,moving)\n",
    "    \n",
    "#print(start_moving)\n",
    "\n",
    "plt.plot(time_days,start_moving,'g.')\n",
    "plt.title('Day When You Start Moving')"
   ]
  },
  {
   "cell_type": "markdown",
   "id": "9d712de2",
   "metadata": {},
   "source": [
    "***REPLACE WITH YOUR COMMENTS.***"
   ]
  },
  {
   "cell_type": "code",
   "execution_count": null,
   "id": "ab0301c7",
   "metadata": {},
   "outputs": [],
   "source": []
  },
  {
   "cell_type": "code",
   "execution_count": null,
   "id": "361db9d3",
   "metadata": {},
   "outputs": [],
   "source": []
  },
  {
   "cell_type": "code",
   "execution_count": null,
   "id": "03b379a1",
   "metadata": {},
   "outputs": [],
   "source": []
  },
  {
   "cell_type": "code",
   "execution_count": null,
   "id": "7218bfca",
   "metadata": {},
   "outputs": [],
   "source": []
  }
 ],
 "metadata": {
  "kernelspec": {
   "display_name": "Python 3 (ipykernel)",
   "language": "python",
   "name": "python3"
  },
  "language_info": {
   "codemirror_mode": {
    "name": "ipython",
    "version": 3
   },
   "file_extension": ".py",
   "mimetype": "text/x-python",
   "name": "python",
   "nbconvert_exporter": "python",
   "pygments_lexer": "ipython3",
   "version": "3.9.7"
  }
 },
 "nbformat": 4,
 "nbformat_minor": 5
}
