{
 "cells": [
  {
   "cell_type": "markdown",
   "id": "28934906",
   "metadata": {},
   "source": [
    "# 10.8 PROBABILITY OF ZERO COPIES\n",
    "\n",
    "Use this notebook to store your work for this problem."
   ]
  },
  {
   "cell_type": "code",
   "execution_count": 5,
   "id": "755a861e",
   "metadata": {},
   "outputs": [],
   "source": [
    "# Garrett Allen\n",
    "import numpy as np\n",
    "import matplotlib.pyplot as plt\n",
    "import scipy.special as ss\n",
    "from scipy.special import binom\n",
    "from numpy import random\n",
    "from scipy.stats import norm\n",
    "import math\n",
    "from scipy.stats import stats\n",
    "from scipy.special import beta\n",
    "from scipy.signal import convolve\n",
    "from mpl_toolkits import mplot3d\n",
    "from numpy.random import default_rng\n",
    "rand = default_rng().random"
   ]
  },
  {
   "cell_type": "code",
   "execution_count": 19,
   "id": "c24dee37",
   "metadata": {},
   "outputs": [],
   "source": [
    "# Don’t understand how I am supposed to modify previous code because X either gets +1 or -1. It never just stays the same. Wrote new code that gives X equal probability to increase, decease, or stay the same."
   ]
  },
  {
   "cell_type": "code",
   "execution_count": null,
   "id": "cde46f79",
   "metadata": {},
   "outputs": [],
   "source": []
  },
  {
   "cell_type": "code",
   "execution_count": null,
   "id": "9e1cdb8c",
   "metadata": {},
   "outputs": [],
   "source": []
  },
  {
   "cell_type": "markdown",
   "id": "9d712de2",
   "metadata": {},
   "source": [
    "***REPLACE WITH YOUR COMMENTS.***"
   ]
  }
 ],
 "metadata": {
  "kernelspec": {
   "display_name": "Python 3 (ipykernel)",
   "language": "python",
   "name": "python3"
  },
  "language_info": {
   "codemirror_mode": {
    "name": "ipython",
    "version": 3
   },
   "file_extension": ".py",
   "mimetype": "text/x-python",
   "name": "python",
   "nbconvert_exporter": "python",
   "pygments_lexer": "ipython3",
   "version": "3.9.7"
  }
 },
 "nbformat": 4,
 "nbformat_minor": 5
}
